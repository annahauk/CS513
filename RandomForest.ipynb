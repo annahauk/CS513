{
 "cells": [
  {
   "cell_type": "code",
   "execution_count": null,
   "metadata": {
    "vscode": {
     "languageId": "plaintext"
    }
   },
   "outputs": [],
   "source": [
    "import pandas as pd\n",
    "from sklearn.model_selection import train_test_split\n",
    "from sklearn.tree import DecisionTreeClassifier\n",
    "from sklearn.ensemble import RandomForestClassifier\n",
    "from sklearn.metrics import confusion_matrix, classification_report, accuracy_score\n",
    "import seaborn as sns\n",
    "import matplotlib.pyplot as plt\n",
    "from sklearn.tree import plot_tree"
   ]
  },
  {
   "cell_type": "code",
   "execution_count": null,
   "metadata": {
    "vscode": {
     "languageId": "plaintext"
    }
   },
   "outputs": [],
   "source": [
    "_ARREST_KEY = \"ARREST_KEY\"\n",
    "\n",
    "_ARREST_BORO = \"ARREST_BORO\"\n",
    "_JURISDICTION_CODE = \"JURISDICTION_CODE\"\n",
    "_OFFENSE_LEVEL = \"LAW_CAT_CD\"\n",
    "\n",
    "_ARREST_DATE = \"ARREST_DATE\"\n",
    "_ARREST_MONTH = \"ARREST_MONTH\" \n",
    "\n",
    "_ARREST_PRECINCT = \"ARREST_PRECINCT\"\n",
    "\n",
    "_PERPETRATOR_RACE = \"PERP_RACE\"\n",
    "_PERPETRATOR_SEX = \"PERP_SEX\"\n",
    "_PERPETRATOR_AGE_GROUP=\"AGE_GROUP\"\n",
    "\n",
    "_INTERNAL_CLASSIFICATION=\"PD_CD\"\n",
    "_INTERNAL_CLASSIFICATION_DESCRIPTION=\"PD_DESC\"\n",
    "_THREE_DIGIT_INTERNAL_CLASSIFICATION=\"KY_CD\"\n",
    "\n",
    "_LAW_CODE=\"LAW_CODE\"\n",
    "\n",
    "_GEOGRAPHICAL_POSITION = \"New Georeferenced Column\"\n",
    "\n",
    "_NYS_X_COORD = \"X_COORD_CD\"\n",
    "_NYS_Y_COORD = \"Y_COORD_CD\"\n",
    "\n",
    "_LATITUDE='Latitude'\n",
    "_LONGITUDE='Longitude'\n"
   ]
  },
  {
   "cell_type": "code",
   "execution_count": null,
   "metadata": {
    "vscode": {
     "languageId": "plaintext"
    }
   },
   "outputs": [],
   "source": [
    "df = pd.read_csv('./cleaned_data.csv')\n",
    "df.head()\n"
   ]
  },
  {
   "cell_type": "code",
   "execution_count": null,
   "metadata": {
    "vscode": {
     "languageId": "plaintext"
    }
   },
   "outputs": [],
   "source": [
    "df[_ARREST_PRECINCT] = df[_ARREST_PRECINCT].astype('object')\n",
    "df[_JURISDICTION_CODE] = df[_JURISDICTION_CODE].astype('object')"
   ]
  },
  {
   "cell_type": "code",
   "execution_count": null,
   "metadata": {
    "vscode": {
     "languageId": "plaintext"
    }
   },
   "outputs": [],
   "source": [
    "df_num= df.select_dtypes(exclude='object')\n",
    "df_obj= df.select_dtypes(include='object')\n",
    "\n",
    "df_num.info()\n",
    "df_obj.info()"
   ]
  },
  {
   "cell_type": "code",
   "execution_count": null,
   "metadata": {
    "vscode": {
     "languageId": "plaintext"
    }
   },
   "outputs": [],
   "source": [
    "# Normalize the data\n",
    "from sklearn.preprocessing import MinMaxScaler,OneHotEncoder\n",
    "from sklearn.compose import make_column_transformer\n",
    "from sklearn.pipeline import Pipeline\n",
    "\n",
    "numScaler = MinMaxScaler()\n",
    "catEncoder = OneHotEncoder(sparse_output=False)\n",
    "# Fit and transform the data\n",
    "#df_num = pd.DataFrame(numScaler.fit_transform(df_num), columns=df_num.columns)\n",
    "# enc= catEncoder.fit_transform(df_obj)\n",
    "# catEncoder.get_feature_names_out().size\n",
    "# enc.shape\n",
    "\n",
    "enc = catEncoder.fit_transform(df_obj)\n",
    "scaled = numScaler.fit_transform(df_num)\n"
   ]
  },
  {
   "cell_type": "code",
   "execution_count": null,
   "metadata": {
    "vscode": {
     "languageId": "plaintext"
    }
   },
   "outputs": [],
   "source": [
    "df_obj[_OFFENSE_LEVEL].unique()\n",
    "#df_obj=df_obj.drop(columns=[\"OFNS_DESC\",\"LAW_CODE\"])# drop some columns to deal with long fit time\n",
    "df_obj"
   ]
  },
  {
   "cell_type": "code",
   "execution_count": null,
   "metadata": {
    "vscode": {
     "languageId": "plaintext"
    }
   },
   "outputs": [],
   "source": [
    "\n",
    "# Split the data into training and testing sets\n",
    "attr_train, attr_test, target_train, target_test = train_test_split(attr, target, test_size=0.2, random_state=5)"
   ]
  },
  {
   "cell_type": "code",
   "execution_count": null,
   "metadata": {
    "vscode": {
     "languageId": "plaintext"
    }
   },
   "outputs": [],
   "source": [
    "from sklearn.ensemble import RandomForestClassifier\n",
    "model = RandomForestClassifier(n_estimators=100,random_state=7)#don't increase n estimators too much. limits independence\n",
    "#random state is random, but if you want to repeat, you give it the same seed\n",
    "#don't increase n estimators too much. limits independence\n",
    "#random state is random, but if you want to repeat, you give it the same seed"
   ]
  },
  {
   "cell_type": "code",
   "execution_count": null,
   "metadata": {
    "vscode": {
     "languageId": "plaintext"
    }
   },
   "outputs": [],
   "source": [
    "model.fit(attr_train,target_train)\n",
    "target_pred = model.predict(attr_test)\n",
    " "
   ]
  },
  {
   "cell_type": "code",
   "execution_count": null,
   "metadata": {
    "vscode": {
     "languageId": "plaintext"
    }
   },
   "outputs": [],
   "source": [
    "from sklearn.metrics import confusion_matrix, classification_report, accuracy_score\n",
    "print(f\"Accuracy= {accuracy_score(target_test,target_pred)}\")\n",
    "\n",
    "print(confusion_matrix(target_test,target_pred))\n",
    "print(classification_report(target_test,target_pred))"
   ]
  },
  {
   "cell_type": "code",
   "execution_count": null,
   "metadata": {
    "vscode": {
     "languageId": "plaintext"
    }
   },
   "outputs": [],
   "source": [
    "\n",
    "# Feature importance for Mean Decrease Accuracy\n",
    "mean_decrease_accuracy = model.feature_importances_\n",
    "print(f\"Mean Decrease Accuracy{ mean_decrease_accuracy}\")\n",
    "# # Feature importance for Mean Decrease GINI\n",
    "# # Note: GINI importance is specific to decision trees and random forests\n",
    "gini_importance = model.feature_importances_ * model.estimators_[0].tree_.impurity[0]\n",
    "print(f\"\\nMean Decrease GINI= {gini_importance}\")\n",
    " "
   ]
  },
  {
   "cell_type": "code",
   "execution_count": null,
   "metadata": {
    "vscode": {
     "languageId": "plaintext"
    }
   },
   "outputs": [],
   "source": [
    "plt.figure(figsize=(10, 6))\n",
    "plt.barh(range(len(mean_decrease_accuracy)), mean_decrease_accuracy, align='center')\n",
    "plt.yticks(range(len(mean_decrease_accuracy)), attr.columns)\n",
    "plt.xlabel('Mean Decrease Accuracy')\n",
    "plt.title('Feature Importance - Mean Decrease Accuracy')\n",
    "plt.show()\n",
    "plt.figure(figsize=(10, 6))\n",
    "plt.barh(range(len(gini_importance)), gini_importance, align='center')\n",
    "plt.yticks(range(len(gini_importance)), attr.columns)\n",
    "plt.xlabel('Mean Decrease GINI')\n",
    "plt.title('Feature Importance - Mean Decrease GINI')\n",
    "plt.show()\n",
    "#gini and accuracy might not agree. should be within 5-10 of each other"
   ]
  }
 ],
 "metadata": {
  "language_info": {
   "name": "python"
  }
 },
 "nbformat": 4,
 "nbformat_minor": 2
}
