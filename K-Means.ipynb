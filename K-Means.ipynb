{
 "cells": [
  {
   "cell_type": "code",
   "execution_count": 117,
   "metadata": {},
   "outputs": [],
   "source": [
    "\n",
    "import numpy as np\n",
    "import pandas as pd\n",
    "import matplotlib.pyplot as plt\n",
    "from sklearn.cluster import KMeans\n",
    "from sklearn.preprocessing import MinMaxScaler \n",
    "from sklearn.decomposition import PCA\n"
   ]
  },
  {
   "cell_type": "code",
   "execution_count": 118,
   "metadata": {},
   "outputs": [],
   "source": [
    "_ARREST_KEY = \"ARREST_KEY\"\n",
    "\n",
    "_ARREST_BORO = \"ARREST_BORO\"\n",
    "_JURISDICTION_CODE = \"JURISDICTION_CODE\"\n",
    "_OFFENSE_LEVEL = \"LAW_CAT_CD\"\n",
    "\n",
    "_ARREST_DATE = \"ARREST_DATE\"\n",
    "_ARREST_MONTH = \"ARREST_MONTH\" \n",
    "\n",
    "_ARREST_PRECINCT = \"ARREST_PRECINCT\"\n",
    "\n",
    "_PERPETRATOR_RACE = \"PERP_RACE\"\n",
    "_PERPETRATOR_SEX = \"PERP_SEX\"\n",
    "_PERPETRATOR_AGE_GROUP=\"AGE_GROUP\"\n",
    "\n",
    "_INTERNAL_CLASSIFICATION=\"PD_CD\"\n",
    "_INTERNAL_CLASSIFICATION_DESCRIPTION=\"PD_DESC\"\n",
    "_THREE_DIGIT_INTERNAL_CLASSIFICATION=\"KY_CD\"\n",
    "\n",
    "_LAW_CODE=\"LAW_CODE\"\n",
    "\n",
    "_GEOGRAPHICAL_POSITION = \"New Georeferenced Column\"\n",
    "\n",
    "_NYS_X_COORD = \"X_COORD_CD\"\n",
    "_NYS_Y_COORD = \"Y_COORD_CD\"\n",
    "\n",
    "_LATITUDE='Latitude'\n",
    "_LONGITUDE='Longitude'\n"
   ]
  },
  {
   "cell_type": "code",
   "execution_count": 119,
   "metadata": {},
   "outputs": [
    {
     "data": {
      "text/html": [
       "<div>\n",
       "<style scoped>\n",
       "    .dataframe tbody tr th:only-of-type {\n",
       "        vertical-align: middle;\n",
       "    }\n",
       "\n",
       "    .dataframe tbody tr th {\n",
       "        vertical-align: top;\n",
       "    }\n",
       "\n",
       "    .dataframe thead th {\n",
       "        text-align: right;\n",
       "    }\n",
       "</style>\n",
       "<table border=\"1\" class=\"dataframe\">\n",
       "  <thead>\n",
       "    <tr style=\"text-align: right;\">\n",
       "      <th></th>\n",
       "      <th>OFNS_DESC</th>\n",
       "      <th>LAW_CODE</th>\n",
       "      <th>LAW_CAT_CD</th>\n",
       "      <th>ARREST_BORO</th>\n",
       "      <th>ARREST_PRECINCT</th>\n",
       "      <th>JURISDICTION_CODE</th>\n",
       "      <th>Latitude</th>\n",
       "      <th>Longitude</th>\n",
       "      <th>ARREST_MONTH</th>\n",
       "    </tr>\n",
       "  </thead>\n",
       "  <tbody>\n",
       "    <tr>\n",
       "      <th>0</th>\n",
       "      <td>FELONY ASSAULT</td>\n",
       "      <td>PL-1211200</td>\n",
       "      <td>F</td>\n",
       "      <td>Q</td>\n",
       "      <td>105</td>\n",
       "      <td>0</td>\n",
       "      <td>40.737043</td>\n",
       "      <td>-73.735514</td>\n",
       "      <td>January</td>\n",
       "    </tr>\n",
       "    <tr>\n",
       "      <th>1</th>\n",
       "      <td>FELONY ASSAULT</td>\n",
       "      <td>PL-1200502</td>\n",
       "      <td>F</td>\n",
       "      <td>B</td>\n",
       "      <td>48</td>\n",
       "      <td>0</td>\n",
       "      <td>40.855109</td>\n",
       "      <td>-73.892818</td>\n",
       "      <td>March</td>\n",
       "    </tr>\n",
       "    <tr>\n",
       "      <th>2</th>\n",
       "      <td>FELONY ASSAULT</td>\n",
       "      <td>PL-1200512</td>\n",
       "      <td>F</td>\n",
       "      <td>S</td>\n",
       "      <td>121</td>\n",
       "      <td>0</td>\n",
       "      <td>40.628967</td>\n",
       "      <td>-74.163275</td>\n",
       "      <td>May</td>\n",
       "    </tr>\n",
       "    <tr>\n",
       "      <th>3</th>\n",
       "      <td>FELONY ASSAULT</td>\n",
       "      <td>PL-1211200</td>\n",
       "      <td>F</td>\n",
       "      <td>Q</td>\n",
       "      <td>100</td>\n",
       "      <td>0</td>\n",
       "      <td>40.591980</td>\n",
       "      <td>-73.800066</td>\n",
       "      <td>June</td>\n",
       "    </tr>\n",
       "    <tr>\n",
       "      <th>4</th>\n",
       "      <td>RAPE</td>\n",
       "      <td>PL-1302503</td>\n",
       "      <td>F</td>\n",
       "      <td>M</td>\n",
       "      <td>14</td>\n",
       "      <td>0</td>\n",
       "      <td>40.753533</td>\n",
       "      <td>-73.994537</td>\n",
       "      <td>January</td>\n",
       "    </tr>\n",
       "  </tbody>\n",
       "</table>\n",
       "</div>"
      ],
      "text/plain": [
       "        OFNS_DESC    LAW_CODE LAW_CAT_CD ARREST_BORO  ARREST_PRECINCT  \\\n",
       "0  FELONY ASSAULT  PL-1211200          F           Q              105   \n",
       "1  FELONY ASSAULT  PL-1200502          F           B               48   \n",
       "2  FELONY ASSAULT  PL-1200512          F           S              121   \n",
       "3  FELONY ASSAULT  PL-1211200          F           Q              100   \n",
       "4            RAPE  PL-1302503          F           M               14   \n",
       "\n",
       "   JURISDICTION_CODE   Latitude  Longitude ARREST_MONTH  \n",
       "0                  0  40.737043 -73.735514      January  \n",
       "1                  0  40.855109 -73.892818        March  \n",
       "2                  0  40.628967 -74.163275          May  \n",
       "3                  0  40.591980 -73.800066         June  \n",
       "4                  0  40.753533 -73.994537      January  "
      ]
     },
     "execution_count": 119,
     "metadata": {},
     "output_type": "execute_result"
    }
   ],
   "source": [
    "df = pd.read_csv('./cleaned_data.csv')\n",
    "df.head()\n"
   ]
  },
  {
   "cell_type": "code",
   "execution_count": 120,
   "metadata": {},
   "outputs": [],
   "source": [
    "df[_ARREST_PRECINCT] = df[_ARREST_PRECINCT].astype('object')\n",
    "df[_JURISDICTION_CODE] = df[_JURISDICTION_CODE].astype('object')"
   ]
  },
  {
   "cell_type": "code",
   "execution_count": 121,
   "metadata": {},
   "outputs": [
    {
     "name": "stdout",
     "output_type": "stream",
     "text": [
      "<class 'pandas.core.frame.DataFrame'>\n",
      "RangeIndex: 188682 entries, 0 to 188681\n",
      "Data columns (total 2 columns):\n",
      " #   Column     Non-Null Count   Dtype  \n",
      "---  ------     --------------   -----  \n",
      " 0   Latitude   188682 non-null  float64\n",
      " 1   Longitude  188682 non-null  float64\n",
      "dtypes: float64(2)\n",
      "memory usage: 2.9 MB\n",
      "<class 'pandas.core.frame.DataFrame'>\n",
      "RangeIndex: 188682 entries, 0 to 188681\n",
      "Data columns (total 7 columns):\n",
      " #   Column             Non-Null Count   Dtype \n",
      "---  ------             --------------   ----- \n",
      " 0   OFNS_DESC          188682 non-null  object\n",
      " 1   LAW_CODE           188682 non-null  object\n",
      " 2   LAW_CAT_CD         188682 non-null  object\n",
      " 3   ARREST_BORO        188682 non-null  object\n",
      " 4   ARREST_PRECINCT    188682 non-null  object\n",
      " 5   JURISDICTION_CODE  188682 non-null  object\n",
      " 6   ARREST_MONTH       188682 non-null  object\n",
      "dtypes: object(7)\n",
      "memory usage: 10.1+ MB\n"
     ]
    }
   ],
   "source": [
    "df_num= df.select_dtypes(exclude='object')\n",
    "df_obj= df.select_dtypes(include='object')\n",
    "\n",
    "df_num.info()\n",
    "df_obj.info()"
   ]
  },
  {
   "cell_type": "code",
   "execution_count": 122,
   "metadata": {},
   "outputs": [
    {
     "data": {
      "text/html": [
       "<div>\n",
       "<style scoped>\n",
       "    .dataframe tbody tr th:only-of-type {\n",
       "        vertical-align: middle;\n",
       "    }\n",
       "\n",
       "    .dataframe tbody tr th {\n",
       "        vertical-align: top;\n",
       "    }\n",
       "\n",
       "    .dataframe thead th {\n",
       "        text-align: right;\n",
       "    }\n",
       "</style>\n",
       "<table border=\"1\" class=\"dataframe\">\n",
       "  <thead>\n",
       "    <tr style=\"text-align: right;\">\n",
       "      <th></th>\n",
       "      <th>OFNS_DESC</th>\n",
       "      <th>LAW_CODE</th>\n",
       "      <th>LAW_CAT_CD</th>\n",
       "      <th>ARREST_BORO</th>\n",
       "      <th>ARREST_PRECINCT</th>\n",
       "      <th>JURISDICTION_CODE</th>\n",
       "      <th>ARREST_MONTH</th>\n",
       "    </tr>\n",
       "  </thead>\n",
       "  <tbody>\n",
       "    <tr>\n",
       "      <th>0</th>\n",
       "      <td>FELONY ASSAULT</td>\n",
       "      <td>PL-1211200</td>\n",
       "      <td>F</td>\n",
       "      <td>Q</td>\n",
       "      <td>105</td>\n",
       "      <td>0</td>\n",
       "      <td>January</td>\n",
       "    </tr>\n",
       "    <tr>\n",
       "      <th>1</th>\n",
       "      <td>FELONY ASSAULT</td>\n",
       "      <td>PL-1200502</td>\n",
       "      <td>F</td>\n",
       "      <td>B</td>\n",
       "      <td>48</td>\n",
       "      <td>0</td>\n",
       "      <td>March</td>\n",
       "    </tr>\n",
       "    <tr>\n",
       "      <th>2</th>\n",
       "      <td>FELONY ASSAULT</td>\n",
       "      <td>PL-1200512</td>\n",
       "      <td>F</td>\n",
       "      <td>S</td>\n",
       "      <td>121</td>\n",
       "      <td>0</td>\n",
       "      <td>May</td>\n",
       "    </tr>\n",
       "    <tr>\n",
       "      <th>3</th>\n",
       "      <td>FELONY ASSAULT</td>\n",
       "      <td>PL-1211200</td>\n",
       "      <td>F</td>\n",
       "      <td>Q</td>\n",
       "      <td>100</td>\n",
       "      <td>0</td>\n",
       "      <td>June</td>\n",
       "    </tr>\n",
       "    <tr>\n",
       "      <th>4</th>\n",
       "      <td>RAPE</td>\n",
       "      <td>PL-1302503</td>\n",
       "      <td>F</td>\n",
       "      <td>M</td>\n",
       "      <td>14</td>\n",
       "      <td>0</td>\n",
       "      <td>January</td>\n",
       "    </tr>\n",
       "    <tr>\n",
       "      <th>...</th>\n",
       "      <td>...</td>\n",
       "      <td>...</td>\n",
       "      <td>...</td>\n",
       "      <td>...</td>\n",
       "      <td>...</td>\n",
       "      <td>...</td>\n",
       "      <td>...</td>\n",
       "    </tr>\n",
       "    <tr>\n",
       "      <th>188677</th>\n",
       "      <td>PETIT LARCENY</td>\n",
       "      <td>PL-1552500</td>\n",
       "      <td>M</td>\n",
       "      <td>Q</td>\n",
       "      <td>109</td>\n",
       "      <td>0</td>\n",
       "      <td>September</td>\n",
       "    </tr>\n",
       "    <tr>\n",
       "      <th>188678</th>\n",
       "      <td>ASSAULT 3 &amp; RELATED OFFENSES</td>\n",
       "      <td>PL-1200001</td>\n",
       "      <td>M</td>\n",
       "      <td>M</td>\n",
       "      <td>34</td>\n",
       "      <td>0</td>\n",
       "      <td>September</td>\n",
       "    </tr>\n",
       "    <tr>\n",
       "      <th>188679</th>\n",
       "      <td>BURGLARY</td>\n",
       "      <td>PL-1402501</td>\n",
       "      <td>F</td>\n",
       "      <td>M</td>\n",
       "      <td>23</td>\n",
       "      <td>0</td>\n",
       "      <td>September</td>\n",
       "    </tr>\n",
       "    <tr>\n",
       "      <th>188680</th>\n",
       "      <td>OTHER OFFENSES RELATED TO THEFT</td>\n",
       "      <td>PL-1651503</td>\n",
       "      <td>M</td>\n",
       "      <td>B</td>\n",
       "      <td>44</td>\n",
       "      <td>1</td>\n",
       "      <td>September</td>\n",
       "    </tr>\n",
       "    <tr>\n",
       "      <th>188681</th>\n",
       "      <td>DANGEROUS WEAPONS</td>\n",
       "      <td>PL-265031B</td>\n",
       "      <td>F</td>\n",
       "      <td>B</td>\n",
       "      <td>46</td>\n",
       "      <td>0</td>\n",
       "      <td>September</td>\n",
       "    </tr>\n",
       "  </tbody>\n",
       "</table>\n",
       "<p>188682 rows × 7 columns</p>\n",
       "</div>"
      ],
      "text/plain": [
       "                              OFNS_DESC    LAW_CODE LAW_CAT_CD ARREST_BORO  \\\n",
       "0                        FELONY ASSAULT  PL-1211200          F           Q   \n",
       "1                        FELONY ASSAULT  PL-1200502          F           B   \n",
       "2                        FELONY ASSAULT  PL-1200512          F           S   \n",
       "3                        FELONY ASSAULT  PL-1211200          F           Q   \n",
       "4                                  RAPE  PL-1302503          F           M   \n",
       "...                                 ...         ...        ...         ...   \n",
       "188677                    PETIT LARCENY  PL-1552500          M           Q   \n",
       "188678     ASSAULT 3 & RELATED OFFENSES  PL-1200001          M           M   \n",
       "188679                         BURGLARY  PL-1402501          F           M   \n",
       "188680  OTHER OFFENSES RELATED TO THEFT  PL-1651503          M           B   \n",
       "188681                DANGEROUS WEAPONS  PL-265031B          F           B   \n",
       "\n",
       "       ARREST_PRECINCT JURISDICTION_CODE ARREST_MONTH  \n",
       "0                  105                 0      January  \n",
       "1                   48                 0        March  \n",
       "2                  121                 0          May  \n",
       "3                  100                 0         June  \n",
       "4                   14                 0      January  \n",
       "...                ...               ...          ...  \n",
       "188677             109                 0    September  \n",
       "188678              34                 0    September  \n",
       "188679              23                 0    September  \n",
       "188680              44                 1    September  \n",
       "188681              46                 0    September  \n",
       "\n",
       "[188682 rows x 7 columns]"
      ]
     },
     "execution_count": 122,
     "metadata": {},
     "output_type": "execute_result"
    }
   ],
   "source": [
    "df_obj[_OFFENSE_LEVEL].unique()\n",
    "#df_obj=df_obj.drop(columns=[\"OFNS_DESC\",\"LAW_CODE\"])# drop some columns to deal with long fit time\n",
    "df_obj"
   ]
  },
  {
   "cell_type": "code",
   "execution_count": 123,
   "metadata": {},
   "outputs": [],
   "source": [
    "# df_obj= pd.get_dummies(df_obj, drop_first=True)\n",
    "\n",
    "# target = (df_obj['LAW_CAT_CD_M'])\n",
    "# df_obj = df_obj.drop(columns=['LAW_CAT_CD_M'],axis=1)\n",
    "# df_obj"
   ]
  },
  {
   "cell_type": "code",
   "execution_count": 124,
   "metadata": {},
   "outputs": [
    {
     "data": {
      "text/html": [
       "<div>\n",
       "<style scoped>\n",
       "    .dataframe tbody tr th:only-of-type {\n",
       "        vertical-align: middle;\n",
       "    }\n",
       "\n",
       "    .dataframe tbody tr th {\n",
       "        vertical-align: top;\n",
       "    }\n",
       "\n",
       "    .dataframe thead th {\n",
       "        text-align: right;\n",
       "    }\n",
       "</style>\n",
       "<table border=\"1\" class=\"dataframe\">\n",
       "  <thead>\n",
       "    <tr style=\"text-align: right;\">\n",
       "      <th></th>\n",
       "      <th>Latitude</th>\n",
       "      <th>Longitude</th>\n",
       "    </tr>\n",
       "  </thead>\n",
       "  <tbody>\n",
       "    <tr>\n",
       "      <th>0</th>\n",
       "      <td>40.737043</td>\n",
       "      <td>-73.735514</td>\n",
       "    </tr>\n",
       "    <tr>\n",
       "      <th>1</th>\n",
       "      <td>40.855109</td>\n",
       "      <td>-73.892818</td>\n",
       "    </tr>\n",
       "    <tr>\n",
       "      <th>2</th>\n",
       "      <td>40.628967</td>\n",
       "      <td>-74.163275</td>\n",
       "    </tr>\n",
       "    <tr>\n",
       "      <th>3</th>\n",
       "      <td>40.591980</td>\n",
       "      <td>-73.800066</td>\n",
       "    </tr>\n",
       "    <tr>\n",
       "      <th>4</th>\n",
       "      <td>40.753533</td>\n",
       "      <td>-73.994537</td>\n",
       "    </tr>\n",
       "    <tr>\n",
       "      <th>...</th>\n",
       "      <td>...</td>\n",
       "      <td>...</td>\n",
       "    </tr>\n",
       "    <tr>\n",
       "      <th>188677</th>\n",
       "      <td>40.757691</td>\n",
       "      <td>-73.834115</td>\n",
       "    </tr>\n",
       "    <tr>\n",
       "      <th>188678</th>\n",
       "      <td>40.856808</td>\n",
       "      <td>-73.928265</td>\n",
       "    </tr>\n",
       "    <tr>\n",
       "      <th>188679</th>\n",
       "      <td>40.786116</td>\n",
       "      <td>-73.942614</td>\n",
       "    </tr>\n",
       "    <tr>\n",
       "      <th>188680</th>\n",
       "      <td>40.827812</td>\n",
       "      <td>-73.925929</td>\n",
       "    </tr>\n",
       "    <tr>\n",
       "      <th>188681</th>\n",
       "      <td>40.854588</td>\n",
       "      <td>-73.901861</td>\n",
       "    </tr>\n",
       "  </tbody>\n",
       "</table>\n",
       "<p>188682 rows × 2 columns</p>\n",
       "</div>"
      ],
      "text/plain": [
       "         Latitude  Longitude\n",
       "0       40.737043 -73.735514\n",
       "1       40.855109 -73.892818\n",
       "2       40.628967 -74.163275\n",
       "3       40.591980 -73.800066\n",
       "4       40.753533 -73.994537\n",
       "...           ...        ...\n",
       "188677  40.757691 -73.834115\n",
       "188678  40.856808 -73.928265\n",
       "188679  40.786116 -73.942614\n",
       "188680  40.827812 -73.925929\n",
       "188681  40.854588 -73.901861\n",
       "\n",
       "[188682 rows x 2 columns]"
      ]
     },
     "execution_count": 124,
     "metadata": {},
     "output_type": "execute_result"
    }
   ],
   "source": [
    "df_num"
   ]
  },
  {
   "cell_type": "code",
   "execution_count": 125,
   "metadata": {},
   "outputs": [],
   "source": [
    "# Normalize the data\n",
    "from sklearn.preprocessing import MinMaxScaler,StandardScaler,OneHotEncoder\n",
    "from sklearn.compose import make_column_transformer\n",
    "from sklearn.pipeline import Pipeline\n",
    "\n",
    "numScaler = StandardScaler()\n",
    "catEncoder = OneHotEncoder(sparse_output=False)\n",
    "# Fit and transform the data\n",
    "#df_num = pd.DataFrame(numScaler.fit_transform(df_num), columns=df_num.columns)\n",
    "# enc= catEncoder.fit_transform(df_obj)\n",
    "# catEncoder.get_feature_names_out().size\n",
    "# enc.shape\n",
    "\n",
    "enc = catEncoder.fit_transform(df_obj)\n",
    "scaled = numScaler.fit_transform(df_num)\n"
   ]
  },
  {
   "cell_type": "code",
   "execution_count": 126,
   "metadata": {},
   "outputs": [
    {
     "data": {
      "text/plain": [
       "array(['OFNS_DESC_ADMINISTRATIVE CODE', 'OFNS_DESC_ADMINISTRATIVE CODES',\n",
       "       'OFNS_DESC_ALCOHOLIC BEVERAGE CONTROL LAW', ...,\n",
       "       'ARREST_MONTH_March', 'ARREST_MONTH_May', 'ARREST_MONTH_September'],\n",
       "      dtype=object)"
      ]
     },
     "execution_count": 126,
     "metadata": {},
     "output_type": "execute_result"
    }
   ],
   "source": [
    "catEncoder.get_feature_names_out()"
   ]
  },
  {
   "cell_type": "code",
   "execution_count": 127,
   "metadata": {},
   "outputs": [],
   "source": [
    "df_obj = pd.DataFrame(enc, columns=catEncoder.get_feature_names_out())\n"
   ]
  },
  {
   "cell_type": "code",
   "execution_count": 128,
   "metadata": {},
   "outputs": [],
   "source": [
    "# Don't scale longitude/latitude so we can interpret them later\n",
    "#df_num = pd.DataFrame(scaled, columns=numScaler.get_feature_names_out())"
   ]
  },
  {
   "cell_type": "code",
   "execution_count": 129,
   "metadata": {},
   "outputs": [],
   "source": [
    "#attr = pd.concat([df_obj,df_num],axis=1)\n",
    "# Only perform clustering on numerical data\n",
    "attr = df_num\n",
    "target = df_obj[\"LAW_CAT_CD_M\"]"
   ]
  },
  {
   "cell_type": "code",
   "execution_count": 130,
   "metadata": {},
   "outputs": [
    {
     "data": {
      "text/html": [
       "<div>\n",
       "<style scoped>\n",
       "    .dataframe tbody tr th:only-of-type {\n",
       "        vertical-align: middle;\n",
       "    }\n",
       "\n",
       "    .dataframe tbody tr th {\n",
       "        vertical-align: top;\n",
       "    }\n",
       "\n",
       "    .dataframe thead th {\n",
       "        text-align: right;\n",
       "    }\n",
       "</style>\n",
       "<table border=\"1\" class=\"dataframe\">\n",
       "  <thead>\n",
       "    <tr style=\"text-align: right;\">\n",
       "      <th></th>\n",
       "      <th>Latitude</th>\n",
       "      <th>Longitude</th>\n",
       "    </tr>\n",
       "  </thead>\n",
       "  <tbody>\n",
       "    <tr>\n",
       "      <th>0</th>\n",
       "      <td>40.737043</td>\n",
       "      <td>-73.735514</td>\n",
       "    </tr>\n",
       "    <tr>\n",
       "      <th>1</th>\n",
       "      <td>40.855109</td>\n",
       "      <td>-73.892818</td>\n",
       "    </tr>\n",
       "    <tr>\n",
       "      <th>2</th>\n",
       "      <td>40.628967</td>\n",
       "      <td>-74.163275</td>\n",
       "    </tr>\n",
       "    <tr>\n",
       "      <th>3</th>\n",
       "      <td>40.591980</td>\n",
       "      <td>-73.800066</td>\n",
       "    </tr>\n",
       "    <tr>\n",
       "      <th>4</th>\n",
       "      <td>40.753533</td>\n",
       "      <td>-73.994537</td>\n",
       "    </tr>\n",
       "  </tbody>\n",
       "</table>\n",
       "</div>"
      ],
      "text/plain": [
       "    Latitude  Longitude\n",
       "0  40.737043 -73.735514\n",
       "1  40.855109 -73.892818\n",
       "2  40.628967 -74.163275\n",
       "3  40.591980 -73.800066\n",
       "4  40.753533 -73.994537"
      ]
     },
     "execution_count": 130,
     "metadata": {},
     "output_type": "execute_result"
    }
   ],
   "source": [
    "attr.head()"
   ]
  },
  {
   "cell_type": "code",
   "execution_count": 131,
   "metadata": {},
   "outputs": [
    {
     "data": {
      "text/plain": [
       "array([[ 0.16547217,  0.08794575],\n",
       "       [-0.02880737,  0.11859846],\n",
       "       [-0.16187038, -0.20786965],\n",
       "       ...,\n",
       "       [-0.0404956 ,  0.03431881],\n",
       "       [-0.04527989,  0.07897318],\n",
       "       [-0.03655311,  0.11390287]])"
      ]
     },
     "execution_count": 131,
     "metadata": {},
     "output_type": "execute_result"
    }
   ],
   "source": [
    "# PCA\n",
    "pca=  PCA(n_components=2)\n",
    "attr_pca = pca.fit_transform(attr)\n",
    "attr_pca"
   ]
  },
  {
   "cell_type": "code",
   "execution_count": 132,
   "metadata": {},
   "outputs": [],
   "source": [
    "# Perform K-means clustering\n",
    "num_clusters = 3  # Use three clusters\n",
    "kmeans = KMeans(n_clusters=num_clusters, random_state=12)\n",
    "kmeans.fit(attr_pca)\n",
    "labels = kmeans.labels_\n",
    "centers = kmeans.cluster_centers_"
   ]
  },
  {
   "cell_type": "code",
   "execution_count": 133,
   "metadata": {},
   "outputs": [
    {
     "name": "stdout",
     "output_type": "stream",
     "text": [
      "Cluster      0  1      2\n",
      "Actual                  \n",
      "0.0      41351  0  41103\n",
      "1.0      55092  1  51135\n"
     ]
    }
   ],
   "source": [
    "# Show the output of kmeans clustering\n",
    "import pandas as pd\n",
    "df_cluster=pd.DataFrame({'Actual':target,'Cluster':labels})\n",
    "# Create a cross-tabulation\n",
    "cross_tab = pd.crosstab(df_cluster['Actual'], df_cluster['Cluster'])\n",
    "\n",
    "print(cross_tab)"
   ]
  },
  {
   "cell_type": "code",
   "execution_count": 134,
   "metadata": {},
   "outputs": [
    {
     "data": {
      "image/png": "[encoded data removed]",
      "text/plain": [
       "<Figure size 640x480 with 1 Axes>"
      ]
     },
     "metadata": {},
     "output_type": "display_data"
    }
   ],
   "source": [
    "plt.scatter(attr_pca[:, 0], attr_pca[:, 1], c=kmeans.labels_, cmap='viridis')\n",
    "plt.xlabel('PCA Component 1')\n",
    "plt.ylabel('PCA Component 2')\n",
    "plt.title('Crime Data Clustering')\n",
    "plt.show()"
   ]
  },
  {
   "cell_type": "code",
   "execution_count": 139,
   "metadata": {},
   "outputs": [
    {
     "data": {
      "text/plain": [
       "array([[ 0.16547217,  0.08794575],\n",
       "       [-0.02880737,  0.11859846],\n",
       "       [-0.0573332 ,  0.05481851],\n",
       "       ...,\n",
       "       [-0.0404956 ,  0.03431881],\n",
       "       [-0.04527989,  0.07897318],\n",
       "       [-0.03655311,  0.11390287]])"
      ]
     },
     "execution_count": 139,
     "metadata": {},
     "output_type": "execute_result"
    }
   ],
   "source": [
    "firstCluster = attr_pca[kmeans.labels_ == 0]\n",
    "secondCluster = attr_pca[kmeans.labels_ == 1]\n",
    "thirdCluster = attr_pca[kmeans.labels_ == 2]\n",
    "firstCluster"
   ]
  },
  {
   "cell_type": "code",
   "execution_count": 140,
   "metadata": {},
   "outputs": [
    {
     "data": {
      "text/plain": [
       "array([[84.39309277, -1.37514188]])"
      ]
     },
     "execution_count": 140,
     "metadata": {},
     "output_type": "execute_result"
    }
   ],
   "source": [
    "secondCluster"
   ]
  },
  {
   "cell_type": "code",
   "execution_count": 141,
   "metadata": {},
   "outputs": [
    {
     "data": {
      "text/plain": [
       "array([[-0.16187038, -0.20786965],\n",
       "       [ 0.17637009, -0.07045712],\n",
       "       [-0.07111396, -0.01878651],\n",
       "       ...,\n",
       "       [ 0.01448518, -0.1716761 ],\n",
       "       [-0.14995343, -0.3119798 ],\n",
       "       [ 0.0696195 , -0.04848604]])"
      ]
     },
     "execution_count": 141,
     "metadata": {},
     "output_type": "execute_result"
    }
   ],
   "source": [
    "thirdCluster"
   ]
  },
  {
   "cell_type": "code",
   "execution_count": 153,
   "metadata": {},
   "outputs": [
    {
     "name": "stdout",
     "output_type": "stream",
     "text": [
      "Cluster 1:\n",
      "         Latitude  Longitude  Cluster\n",
      "0       40.737043 -73.735514        0\n",
      "1       40.855109 -73.892818        0\n",
      "9       40.812114 -73.947891        0\n",
      "10      40.823378 -73.870168        0\n",
      "13      40.677251 -73.826039        0\n",
      "...           ...        ...      ...\n",
      "188677  40.757691 -73.834115        0\n",
      "188678  40.856808 -73.928265        0\n",
      "188679  40.786116 -73.942614        0\n",
      "188680  40.827812 -73.925929        0\n",
      "188681  40.854588 -73.901861        0\n",
      "\n",
      "[96443 rows x 3 columns]\n",
      "\n",
      "\n",
      "Cluster 3:\n",
      "         Latitude  Longitude  Cluster\n",
      "2       40.628967 -74.163275        2\n",
      "3       40.591980 -73.800066        2\n",
      "4       40.753533 -73.994537        2\n",
      "5       40.695439 -73.983225        2\n",
      "6       40.639436 -73.965983        2\n",
      "...           ...        ...      ...\n",
      "188672  40.720143 -73.997702        2\n",
      "188673  40.658571 -73.908870        2\n",
      "188674  40.578358 -73.990504        2\n",
      "188675  40.531398 -74.201501        2\n",
      "188676  40.661385 -73.884098        2\n",
      "\n",
      "[92238 rows x 3 columns]\n",
      "\n",
      "\n",
      "Cluster 2:\n",
      "       Latitude  Longitude  Cluster\n",
      "36907       0.0        0.0        1\n",
      "\n",
      "\n"
     ]
    }
   ],
   "source": [
    "df_num['Cluster'] = labels\n",
    "\n",
    "for cluster in df_num['Cluster'].unique():\n",
    "    print(f\"Cluster {cluster+1}:\")\n",
    "    print(df_num[df_num['Cluster'] == cluster])\n",
    "    print(\"\\n\")\n"
   ]
  },
  {
   "cell_type": "code",
   "execution_count": null,
   "metadata": {},
   "outputs": [],
   "source": []
  }
 ],
 "metadata": {
  "kernelspec": {
   "display_name": "Python 3",
   "language": "python",
   "name": "python3"
  },
  "language_info": {
   "codemirror_mode": {
    "name": "ipython",
    "version": 3
   },
   "file_extension": ".py",
   "mimetype": "text/x-python",
   "name": "python",
   "nbconvert_exporter": "python",
   "pygments_lexer": "ipython3",
   "version": "3.11.0"
  }
 },
 "nbformat": 4,
 "nbformat_minor": 2
}
